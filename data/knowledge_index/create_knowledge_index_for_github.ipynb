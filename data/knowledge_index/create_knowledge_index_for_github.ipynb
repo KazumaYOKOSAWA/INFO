{
 "cells": [
  {
   "cell_type": "code",
   "execution_count": 2,
   "metadata": {},
   "outputs": [],
   "source": [
    "#load train, val dataset of focus\n",
    "\n",
    "import json\n",
    "\n",
    "with open('focus_train', 'r') as f:\n",
    "    \n",
    "    train = json.load(f, encoding = 'utf-8')\n",
    "    \n",
    "with open('focus_val', 'r') as f:\n",
    "    \n",
    "    val = json.load(f, encoding = 'utf-8')\n",
    "\n",
    "total_ = [train, val]"
   ]
  },
  {
   "cell_type": "code",
   "execution_count": 3,
   "metadata": {},
   "outputs": [],
   "source": [
    "from urllib.parse import urlparse\n",
    "import re\n",
    "\n",
    "def extract_title(url):\n",
    "    \n",
    "    rm_quot = re.sub(\"^\\'\", '', url)\n",
    "    path = urlparse(rm_quot).path\n",
    "    last_struct = re.sub('\\/wiki\\/', '', path)\n",
    "    \n",
    "    return last_struct"
   ]
  },
  {
   "cell_type": "code",
   "execution_count": 4,
   "metadata": {},
   "outputs": [],
   "source": [
    "#gen list with ttile and \n",
    "\n",
    "result = []\n",
    "\n",
    "for case in total_:\n",
    "\n",
    "    for data in case['data']:\n",
    "\n",
    "        title = extract_title(data['landmark_link'])\n",
    "\n",
    "        for para in data['knowledge']:\n",
    "\n",
    "            result.append([title, para])"
   ]
  },
  {
   "cell_type": "code",
   "execution_count": 5,
   "metadata": {},
   "outputs": [],
   "source": [
    "import pandas as pd\n",
    "\n",
    "result_pd = pd.DataFrame(result)\n",
    "result_pd = result_pd.drop_duplicates(keep = 'first')"
   ]
  },
  {
   "cell_type": "code",
   "execution_count": null,
   "metadata": {},
   "outputs": [],
   "source": [
    "result_pd.to_csv('output_path', \n",
    "                 sep = '\\t',\n",
    "                encoding = 'utf-8',\n",
    "                header = None,\n",
    "                index = None)"
   ]
  }
 ],
 "metadata": {
  "kernelspec": {
   "display_name": "Python 3.7.11 ('sent_embedding': conda)",
   "language": "python",
   "name": "python3"
  },
  "language_info": {
   "codemirror_mode": {
    "name": "ipython",
    "version": 3
   },
   "file_extension": ".py",
   "mimetype": "text/x-python",
   "name": "python",
   "nbconvert_exporter": "python",
   "pygments_lexer": "ipython3",
   "version": "3.7.11"
  },
  "orig_nbformat": 4,
  "vscode": {
   "interpreter": {
    "hash": "977b0c52e2b59df21af2c23981a26a7bc8ec5ded5e0151572effe2a7f5222011"
   }
  },
  "pycharm": {
   "stem_cell": {
    "cell_type": "raw",
    "source": [],
    "metadata": {
     "collapsed": false
    }
   }
  }
 },
 "nbformat": 4,
 "nbformat_minor": 2
}